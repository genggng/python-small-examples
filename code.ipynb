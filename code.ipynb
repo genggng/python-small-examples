{
 "cells": [
  {
   "cell_type": "markdown",
   "metadata": {},
   "source": [
    "## 基本操作"
   ]
  },
  {
   "cell_type": "markdown",
   "metadata": {},
   "source": [
    "### 1. 实现relu函数"
   ]
  },
  {
   "cell_type": "code",
   "execution_count": 1,
   "metadata": {},
   "outputs": [
    {
     "data": {
      "text/plain": [
       "5"
      ]
     },
     "execution_count": 1,
     "metadata": {},
     "output_type": "execute_result"
    }
   ],
   "source": [
    "def relu(x):\n",
    "    return max(0,x)\n",
    "relu(5)"
   ]
  },
  {
   "cell_type": "markdown",
   "metadata": {},
   "source": [
    "### 2.进制转换"
   ]
  },
  {
   "cell_type": "code",
   "execution_count": 3,
   "metadata": {},
   "outputs": [
    {
     "name": "stdout",
     "output_type": "stream",
     "text": [
      "0b1010 0o12 0xa\n"
     ]
    }
   ],
   "source": [
    "num = 10\n",
    "#二进制，八进制，十六进制\n",
    "print(bin(num),oct(num),hex(num)) "
   ]
  },
  {
   "cell_type": "markdown",
   "metadata": {},
   "source": [
    "### 3.整数和ASCII码互转"
   ]
  },
  {
   "cell_type": "code",
   "execution_count": 4,
   "metadata": {},
   "outputs": [
    {
     "name": "stdout",
     "output_type": "stream",
     "text": [
      "A\n",
      "65\n"
     ]
    }
   ],
   "source": [
    "# 十进制整数转ascii码\n",
    "print(chr(65))\n",
    "# ascii码转十进制数\n",
    "print(ord('A'))"
   ]
  },
  {
   "cell_type": "markdown",
   "metadata": {},
   "source": [
    "### 4.元素真值检查"
   ]
  },
  {
   "cell_type": "code",
   "execution_count": 12,
   "metadata": {},
   "outputs": [
    {
     "name": "stdout",
     "output_type": "stream",
     "text": [
      "True\n",
      "True\n",
      "False\n"
     ]
    }
   ],
   "source": [
    "\"\"\"\n",
    "python 中的真值\n",
    "数字：除了0和0.0都是真值\n",
    "字符串：空字符''为假\n",
    "列表集合字典：空列表[]（集合字典）为假\n",
    "None:为假\n",
    "!特殊：[None]为真\n",
    "\"\"\"\n",
    "print(bool([None]))  #判断元素的真值\n",
    "print(all([1,-0.1,1,2]))  #要求所有元素都为真\n",
    "print(any([None,0,0.0,'',[],{}])) #任何一个元素为真\n"
   ]
  },
  {
   "cell_type": "markdown",
   "metadata": {},
   "source": [
    "### 5.创建复数"
   ]
  },
  {
   "cell_type": "code",
   "execution_count": 13,
   "metadata": {},
   "outputs": [
    {
     "name": "stdout",
     "output_type": "stream",
     "text": [
      "(1+2j)\n"
     ]
    }
   ],
   "source": [
    "print(complex(1,2))"
   ]
  },
  {
   "cell_type": "markdown",
   "metadata": {},
   "source": [
    "### 6.数学运算"
   ]
  },
  {
   "cell_type": "code",
   "execution_count": 26,
   "metadata": {},
   "outputs": [
    {
     "name": "stdout",
     "output_type": "stream",
     "text": [
      "(3, 1)\n",
      "2.8284271247461903 1\n"
     ]
    }
   ],
   "source": [
    "print(divmod(10,3)) # 获取商和余数\n",
    "print(pow(2,1.5),pow(3,2,4))  #求幂次，可以设置mod返回余数"
   ]
  },
  {
   "cell_type": "markdown",
   "metadata": {},
   "source": [
    "### 7.数值类型转换"
   ]
  },
  {
   "cell_type": "code",
   "execution_count": 25,
   "metadata": {},
   "outputs": [
    {
     "name": "stdout",
     "output_type": "stream",
     "text": [
      "3.0 3.1\n",
      "6\n",
      "12\n",
      "1\n",
      "2\n",
      "1.46\n",
      "1.7976931348623157e+308\n",
      "inf -inf\n"
     ]
    }
   ],
   "source": [
    "# 整数或者字符串转为浮点数\n",
    "print(float(3),float('3.1'))\n",
    "\n",
    "# 字符串转为十进制整数\n",
    "print(int(\"0110\",2))  #原始字符串为二进制\n",
    "print(int(\"12\",10))  #原始字符串为十进制\n",
    "\n",
    "\n",
    "import math\n",
    "print(int(1.453)) #向下取整，舍去小数部分\n",
    "print(math.ceil(1.453)) #向上取整\n",
    "print(round(1.457,2)) #四舍五入，选择保留位数\n",
    "\n",
    "\n",
    "# 注意 int(\"1.45\") 会报错，不支持直接将浮点字符串转为整数\n",
    "\n",
    "#最大数\n",
    "import sys\n",
    "print(sys.float_info.max)\n",
    "\n",
    "# 正负无穷大\n",
    "print(float('inf'),float('-inf'))"
   ]
  },
  {
   "cell_type": "markdown",
   "metadata": {},
   "source": [
    "### 8.关系比较"
   ]
  },
  {
   "cell_type": "code",
   "execution_count": 27,
   "metadata": {},
   "outputs": [
    {
     "name": "stdout",
     "output_type": "stream",
     "text": [
      "False\n"
     ]
    }
   ],
   "source": [
    "# 链式比较\n",
    "i = 3\n",
    "print(1<i<3)"
   ]
  },
  {
   "cell_type": "markdown",
   "metadata": {},
   "source": [
    "### 9.字符串转字节类型"
   ]
  },
  {
   "cell_type": "code",
   "execution_count": 32,
   "metadata": {},
   "outputs": [
    {
     "name": "stdout",
     "output_type": "stream",
     "text": [
      "b'apple' 97\n"
     ]
    }
   ],
   "source": [
    "s = \"apple\"\n",
    "a = bytes(s,encoding=\"utf-8\")\n",
    "print(a,a[0])  #a存储的是\"apple\"以utf-8编码的数字"
   ]
  },
  {
   "cell_type": "markdown",
   "metadata": {},
   "source": [
    "### 10.任意对象转为字符串"
   ]
  },
  {
   "cell_type": "code",
   "execution_count": 33,
   "metadata": {},
   "outputs": [
    {
     "name": "stdout",
     "output_type": "stream",
     "text": [
      "100\n",
      "[3, 2, 10]\n",
      "{'a': 1, 'b': 2}\n"
     ]
    }
   ],
   "source": [
    "\"\"\"\n",
    "python中任意对象都可以转为字符串打印出来\n",
    "\"\"\"\n",
    "print(str(100))\n",
    "print(str([3,2,10]))\n",
    "print(str({'a':1,\"b\":2}))"
   ]
  },
  {
   "cell_type": "markdown",
   "metadata": {},
   "source": [
    "### 11.执行字符串命令"
   ]
  },
  {
   "cell_type": "code",
   "execution_count": 35,
   "metadata": {},
   "outputs": [
    {
     "name": "stdout",
     "output_type": "stream",
     "text": [
      "hello world\n"
     ]
    }
   ],
   "source": [
    "# 将字符串表以为python能够执行的代码\n",
    "s = \"print('hello world')\"\n",
    "r = compile(s,\"<string>\",\"exec\")\n",
    "exec(r)"
   ]
  },
  {
   "cell_type": "markdown",
   "metadata": {},
   "source": [
    "### 12.计算表达式"
   ]
  },
  {
   "cell_type": "code",
   "execution_count": 37,
   "metadata": {},
   "outputs": [
    {
     "name": "stdout",
     "output_type": "stream",
     "text": [
      "7\n",
      "10\n",
      "20\n"
     ]
    }
   ],
   "source": [
    "# 将字符串作为表达式执行\n",
    "s = \"1+2*3\"\n",
    "print(eval(s))\n",
    "\n",
    "dict = \"{'小汽车':10,'面包车':20}\"\n",
    "my_dict = eval(dict)   #将字符串转为能用的字典\n",
    "for key in my_dict:\n",
    "    print(my_dict[key])"
   ]
  },
  {
   "cell_type": "markdown",
   "metadata": {},
   "source": [
    "### 13.字符串格式化"
   ]
  },
  {
   "cell_type": "code",
   "execution_count": 41,
   "metadata": {},
   "outputs": [
    {
     "name": "stdout",
     "output_type": "stream",
     "text": [
      "i am geng,age:24\n"
     ]
    }
   ],
   "source": [
    "# 前面数字是索引\n",
    "\"\"\"\n",
    "3.1415926\t{:.2f}\t3.14\t保留小数点后两位\n",
    "3.1415926\t{:+.2f}\t+3.14\t带符号保留小数点后两位\n",
    "-1\t        {:+.2f}\t-1.00\t带符号保留小数点后两位\n",
    "2.71828\t    {:.0f}\t  3\t    不带小数\n",
    "5\t        {:0>2d}\t05\t    数字补零 (填充左边, 宽度为2)\n",
    "5\t        {:x<4d}\t5xxx\t数字补x (填充右边, 宽度为4)\n",
    "10\t        {:x<4d}\t10xx\t数字补x (填充右边, 宽度为4)\n",
    "1000000\t    {:,}\t1,000,000\t以逗号分隔的数字格式\n",
    "0.25\t    {:.2%}\t25.00%\t百分比格式\n",
    "1000000000\t{:.2e}\t1.00e+09\t指数记法\n",
    "18\t        {:>10d}\t' 18'\t右对齐 (默认, 宽度为10)\n",
    "18\t        {:<10d}\t'18 '\t左对齐 (宽度为10)\n",
    "18\t        {:^10d}\t' 18 '\t中间对齐 (宽度为\n",
    "\"\"\"\n",
    "print(\"i am {1},age:{0}\".format(24,\"geng\"))"
   ]
  },
  {
   "cell_type": "markdown",
   "metadata": {},
   "source": [
    "### 14.排序算法"
   ]
  },
  {
   "cell_type": "code",
   "execution_count": 45,
   "metadata": {},
   "outputs": [
    {
     "name": "stdout",
     "output_type": "stream",
     "text": [
      "[4, 3, 2, 1, 1]\n",
      "[{'name': 'geng', 'score': 100}, {'name': 'fu', 'score': 150}]\n"
     ]
    }
   ],
   "source": [
    "a = [1,4,2,3,1]\n",
    "\n",
    "b = sorted(a,reverse=True) #默认为升序，反转到倒序，\\\n",
    "print(b)  #非原地修改,必须赋值一份\n",
    "\n",
    "student_score = [{'name':\"geng\",'score':100},\n",
    "{'name':'fu','score':150}]\n",
    "# 针对某个key或者维度排序\n",
    "print(sorted(student_score,key=lambda x:x[\"score\"]))"
   ]
  },
  {
   "cell_type": "markdown",
   "metadata": {},
   "source": [
    "### 15.求和函数"
   ]
  },
  {
   "cell_type": "code",
   "execution_count": 46,
   "metadata": {},
   "outputs": [
    {
     "name": "stdout",
     "output_type": "stream",
     "text": [
      "15\n",
      "25\n"
     ]
    }
   ],
   "source": [
    "a = [1,2,3,4,5]\n",
    "print(sum(a))\n",
    "\n",
    "print(sum(a,10)) #求和起始值为10"
   ]
  },
  {
   "cell_type": "code",
   "execution_count": null,
   "metadata": {},
   "outputs": [],
   "source": [
    "### 完成了20个脚本学习"
   ]
  }
 ],
 "metadata": {
  "kernelspec": {
   "display_name": "Python 3.9.7 ('base')",
   "language": "python",
   "name": "python3"
  },
  "language_info": {
   "codemirror_mode": {
    "name": "ipython",
    "version": 3
   },
   "file_extension": ".py",
   "mimetype": "text/x-python",
   "name": "python",
   "nbconvert_exporter": "python",
   "pygments_lexer": "ipython3",
   "version": "3.9.7"
  },
  "orig_nbformat": 4,
  "vscode": {
   "interpreter": {
    "hash": "00173f22465d5f1d845c158d168fa17064fc92517668420cf4dde59f4372f7a7"
   }
  }
 },
 "nbformat": 4,
 "nbformat_minor": 2
}

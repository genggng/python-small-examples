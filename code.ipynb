{
 "cells": [
  {
   "cell_type": "markdown",
   "metadata": {},
   "source": [
    "## 基本操作"
   ]
  },
  {
   "cell_type": "markdown",
   "metadata": {},
   "source": [
    "### 1. 实现relu函数"
   ]
  },
  {
   "cell_type": "code",
   "execution_count": 1,
   "metadata": {},
   "outputs": [
    {
     "data": {
      "text/plain": [
       "5"
      ]
     },
     "execution_count": 1,
     "metadata": {},
     "output_type": "execute_result"
    }
   ],
   "source": [
    "def relu(x):\n",
    "    return max(0,x)\n",
    "relu(5)"
   ]
  },
  {
   "cell_type": "markdown",
   "metadata": {},
   "source": [
    "### 2.进制转换"
   ]
  },
  {
   "cell_type": "code",
   "execution_count": 3,
   "metadata": {},
   "outputs": [
    {
     "name": "stdout",
     "output_type": "stream",
     "text": [
      "0b1010 0o12 0xa\n"
     ]
    }
   ],
   "source": [
    "num = 10\n",
    "#二进制，八进制，十六进制\n",
    "print(bin(num),oct(num),hex(num)) "
   ]
  },
  {
   "cell_type": "markdown",
   "metadata": {},
   "source": [
    "### 3.整数和ASCII码互转"
   ]
  },
  {
   "cell_type": "code",
   "execution_count": 4,
   "metadata": {},
   "outputs": [
    {
     "name": "stdout",
     "output_type": "stream",
     "text": [
      "A\n",
      "65\n"
     ]
    }
   ],
   "source": [
    "# 十进制整数转ascii码\n",
    "print(chr(65))\n",
    "# ascii码转十进制数\n",
    "print(ord('A'))"
   ]
  },
  {
   "cell_type": "markdown",
   "metadata": {},
   "source": [
    "### 4.元素真值检查"
   ]
  },
  {
   "cell_type": "code",
   "execution_count": 12,
   "metadata": {},
   "outputs": [
    {
     "name": "stdout",
     "output_type": "stream",
     "text": [
      "True\n",
      "True\n",
      "False\n"
     ]
    }
   ],
   "source": [
    "\"\"\"\n",
    "python 中的真值\n",
    "数字：除了0和0.0都是真值\n",
    "字符串：空字符''为假\n",
    "列表集合字典：空列表[]（集合字典）为假\n",
    "None:为假\n",
    "!特殊：[None]为真\n",
    "\"\"\"\n",
    "print(bool([None]))  #判断元素的真值\n",
    "print(all([1,-0.1,1,2]))  #要求所有元素都为真\n",
    "print(any([None,0,0.0,'',[],{}])) #任何一个元素为真\n"
   ]
  },
  {
   "cell_type": "markdown",
   "metadata": {},
   "source": [
    "### 5.创建复数"
   ]
  },
  {
   "cell_type": "code",
   "execution_count": 13,
   "metadata": {},
   "outputs": [
    {
     "name": "stdout",
     "output_type": "stream",
     "text": [
      "(1+2j)\n"
     ]
    }
   ],
   "source": [
    "print(complex(1,2))"
   ]
  },
  {
   "cell_type": "markdown",
   "metadata": {},
   "source": [
    "### 6.数学运算"
   ]
  },
  {
   "cell_type": "code",
   "execution_count": 26,
   "metadata": {},
   "outputs": [
    {
     "name": "stdout",
     "output_type": "stream",
     "text": [
      "(3, 1)\n",
      "2.8284271247461903 1\n"
     ]
    }
   ],
   "source": [
    "print(divmod(10,3)) # 获取商和余数\n",
    "print(pow(2,1.5),pow(3,2,4))  #求幂次，可以设置mod返回余数"
   ]
  },
  {
   "cell_type": "markdown",
   "metadata": {},
   "source": [
    "### 7.数值类型转换"
   ]
  },
  {
   "cell_type": "code",
   "execution_count": 25,
   "metadata": {},
   "outputs": [
    {
     "name": "stdout",
     "output_type": "stream",
     "text": [
      "3.0 3.1\n",
      "6\n",
      "12\n",
      "1\n",
      "2\n",
      "1.46\n",
      "1.7976931348623157e+308\n",
      "inf -inf\n"
     ]
    }
   ],
   "source": [
    "# 整数或者字符串转为浮点数\n",
    "print(float(3),float('3.1'))\n",
    "\n",
    "# 字符串转为十进制整数\n",
    "print(int(\"0110\",2))  #原始字符串为二进制\n",
    "print(int(\"12\",10))  #原始字符串为十进制\n",
    "\n",
    "\n",
    "import math\n",
    "print(int(1.453)) #向下取整，舍去小数部分\n",
    "print(math.ceil(1.453)) #向上取整\n",
    "print(round(1.457,2)) #四舍五入，选择保留位数\n",
    "\n",
    "\n",
    "# 注意 int(\"1.45\") 会报错，不支持直接将浮点字符串转为整数\n",
    "\n",
    "#最大数\n",
    "import sys\n",
    "print(sys.float_info.max)\n",
    "\n",
    "# 正负无穷大\n",
    "print(float('inf'),float('-inf'))"
   ]
  },
  {
   "cell_type": "markdown",
   "metadata": {},
   "source": [
    "### 8.关系比较"
   ]
  },
  {
   "cell_type": "code",
   "execution_count": 27,
   "metadata": {},
   "outputs": [
    {
     "name": "stdout",
     "output_type": "stream",
     "text": [
      "False\n"
     ]
    }
   ],
   "source": [
    "# 链式比较\n",
    "i = 3\n",
    "print(1<i<3)"
   ]
  },
  {
   "cell_type": "markdown",
   "metadata": {},
   "source": [
    "### 9.字符串转字节类型"
   ]
  },
  {
   "cell_type": "code",
   "execution_count": 32,
   "metadata": {},
   "outputs": [
    {
     "name": "stdout",
     "output_type": "stream",
     "text": [
      "b'apple' 97\n"
     ]
    }
   ],
   "source": [
    "s = \"apple\"\n",
    "a = bytes(s,encoding=\"utf-8\")\n",
    "print(a,a[0])  #a存储的是\"apple\"以utf-8编码的数字"
   ]
  },
  {
   "cell_type": "markdown",
   "metadata": {},
   "source": [
    "### 10.任意对象转为字符串"
   ]
  },
  {
   "cell_type": "code",
   "execution_count": 33,
   "metadata": {},
   "outputs": [
    {
     "name": "stdout",
     "output_type": "stream",
     "text": [
      "100\n",
      "[3, 2, 10]\n",
      "{'a': 1, 'b': 2}\n"
     ]
    }
   ],
   "source": [
    "\"\"\"\n",
    "python中任意对象都可以转为字符串打印出来\n",
    "需要该对象存在内置方法 __str__\n",
    "\"\"\"\n",
    "print(str(100))\n",
    "print(str([3,2,10]))\n",
    "print(str({'a':1,\"b\":2}))"
   ]
  },
  {
   "cell_type": "markdown",
   "metadata": {},
   "source": [
    "### 11.执行字符串命令"
   ]
  },
  {
   "cell_type": "code",
   "execution_count": 35,
   "metadata": {},
   "outputs": [
    {
     "name": "stdout",
     "output_type": "stream",
     "text": [
      "hello world\n"
     ]
    }
   ],
   "source": [
    "# 将字符串表以为python能够执行的代码\n",
    "s = \"print('hello world')\"\n",
    "r = compile(s,\"<string>\",\"exec\")\n",
    "exec(r)"
   ]
  },
  {
   "cell_type": "markdown",
   "metadata": {},
   "source": [
    "### 12.计算表达式"
   ]
  },
  {
   "cell_type": "code",
   "execution_count": 37,
   "metadata": {},
   "outputs": [
    {
     "name": "stdout",
     "output_type": "stream",
     "text": [
      "7\n",
      "10\n",
      "20\n"
     ]
    }
   ],
   "source": [
    "# 将字符串作为表达式执行\n",
    "s = \"1+2*3\"\n",
    "print(eval(s))\n",
    "\n",
    "dict = \"{'小汽车':10,'面包车':20}\"\n",
    "my_dict = eval(dict)   #将字符串转为能用的字典\n",
    "for key in my_dict:\n",
    "    print(my_dict[key])"
   ]
  },
  {
   "cell_type": "markdown",
   "metadata": {},
   "source": [
    "### 13.字符串格式化"
   ]
  },
  {
   "cell_type": "code",
   "execution_count": 41,
   "metadata": {},
   "outputs": [
    {
     "name": "stdout",
     "output_type": "stream",
     "text": [
      "i am geng,age:24\n"
     ]
    }
   ],
   "source": [
    "# 前面数字是索引\n",
    "\"\"\"\n",
    "3.1415926\t{:.2f}\t3.14\t保留小数点后两位\n",
    "3.1415926\t{:+.2f}\t+3.14\t带符号保留小数点后两位\n",
    "-1\t        {:+.2f}\t-1.00\t带符号保留小数点后两位\n",
    "2.71828\t    {:.0f}\t  3\t    不带小数\n",
    "5\t        {:0>2d}\t05\t    数字补零 (填充左边, 宽度为2)\n",
    "5\t        {:x<4d}\t5xxx\t数字补x (填充右边, 宽度为4)\n",
    "10\t        {:x<4d}\t10xx\t数字补x (填充右边, 宽度为4)\n",
    "1000000\t    {:,}\t1,000,000\t以逗号分隔的数字格式\n",
    "0.25\t    {:.2%}\t25.00%\t百分比格式\n",
    "1000000000\t{:.2e}\t1.00e+09\t指数记法\n",
    "18\t        {:>10d}\t' 18'\t右对齐 (默认, 宽度为10)\n",
    "18\t        {:<10d}\t'18 '\t左对齐 (宽度为10)\n",
    "18\t        {:^10d}\t' 18 '\t中间对齐 (宽度为\n",
    "\"\"\"\n",
    "print(\"i am {1},age:{0}\".format(24,\"geng\"))"
   ]
  },
  {
   "cell_type": "markdown",
   "metadata": {},
   "source": [
    "### 14.排序算法"
   ]
  },
  {
   "cell_type": "code",
   "execution_count": 45,
   "metadata": {},
   "outputs": [
    {
     "name": "stdout",
     "output_type": "stream",
     "text": [
      "[4, 3, 2, 1, 1]\n",
      "[{'name': 'geng', 'score': 100}, {'name': 'fu', 'score': 150}]\n"
     ]
    }
   ],
   "source": [
    "a = [1,4,2,3,1]\n",
    "\n",
    "b = sorted(a,reverse=True) #默认为升序，反转到倒序，\\\n",
    "print(b)  #非原地修改,必须赋值一份\n",
    "\n",
    "student_score = [{'name':\"geng\",'score':100},\n",
    "{'name':'fu','score':150}]\n",
    "# 针对某个key或者维度排序\n",
    "print(sorted(student_score,key=lambda x:x[\"score\"]))"
   ]
  },
  {
   "cell_type": "markdown",
   "metadata": {},
   "source": [
    "### 15.求和函数"
   ]
  },
  {
   "cell_type": "code",
   "execution_count": 46,
   "metadata": {},
   "outputs": [
    {
     "name": "stdout",
     "output_type": "stream",
     "text": [
      "15\n",
      "25\n"
     ]
    }
   ],
   "source": [
    "a = [1,2,3,4,5]\n",
    "print(sum(a))\n",
    "\n",
    "print(sum(a,10)) #求和起始值为10"
   ]
  },
  {
   "cell_type": "markdown",
   "metadata": {},
   "source": [
    "### 16.非局部变量"
   ]
  },
  {
   "cell_type": "code",
   "execution_count": 10,
   "metadata": {},
   "outputs": [
    {
     "name": "stdout",
     "output_type": "stream",
     "text": [
      "11\n",
      "1\n"
     ]
    }
   ],
   "source": [
    "\"\"\"\n",
    "文件内的为全局变量，函数中调用全局变量，需要生命global\n",
    "函数内为局部变量，嵌套函数调用需要生命nonlocal\n",
    "\"\"\"\n",
    "a = 10\n",
    "def fun1():\n",
    "    global a #不能用nonlocal b\n",
    "    a+=1\n",
    "    print(a)\n",
    "    b = 0\n",
    "    def wrapper():\n",
    "        nonlocal b  #不能用global b\n",
    "        b +=1\n",
    "        print(b)\n",
    "    wrapper()\n",
    "fun1()\n",
    "    "
   ]
  },
  {
   "cell_type": "markdown",
   "metadata": {},
   "source": [
    "### 17.函数对象"
   ]
  },
  {
   "cell_type": "code",
   "execution_count": 12,
   "metadata": {},
   "outputs": [
    {
     "name": "stdout",
     "output_type": "stream",
     "text": [
      "i an g\n"
     ]
    }
   ],
   "source": [
    "\"\"\"\n",
    "函数也是对象，能够存储和调用。\n",
    "\"\"\"\n",
    "def f():\n",
    "    print(\"i am f\")\n",
    "def g():\n",
    "    print(\"i an g\")\n",
    "f_list = [f,g]\n",
    "f_list[1]()"
   ]
  },
  {
   "cell_type": "markdown",
   "metadata": {},
   "source": [
    "### 18.生成逆序序列"
   ]
  },
  {
   "cell_type": "code",
   "execution_count": 14,
   "metadata": {},
   "outputs": [
    {
     "name": "stdout",
     "output_type": "stream",
     "text": [
      "[1, 2, 3, 4, 5, 6, 7, 8, 9]\n",
      "[9, 8, 7, 6, 5, 4, 3, 2, 1]\n",
      "[9, 8, 7, 6, 5, 4, 3, 2, 1]\n"
     ]
    }
   ],
   "source": [
    "# 生成正序序列\n",
    "a = list(range(1,10))\n",
    "print(a)\n",
    "# 生成逆序序列\n",
    "print(list(range(9,0,-1)))\n",
    "# 获取逆序\n",
    "print(a[::-1])"
   ]
  },
  {
   "cell_type": "markdown",
   "metadata": {},
   "source": [
    "### 19.函数参数"
   ]
  },
  {
   "cell_type": "code",
   "execution_count": 21,
   "metadata": {},
   "outputs": [
    {
     "name": "stdout",
     "output_type": "stream",
     "text": [
      "a= 1 b= 2 args= (3,) kw= {}\n",
      "a= 1 b= 2 args= () kw= {'k1': 3, 'k2': 5}\n"
     ]
    }
   ],
   "source": [
    "\"\"\"\n",
    "python函数有五类参数：\n",
    "位置参数： def(a,b)依靠参数的位置次序确定参数 \n",
    "关键词参数： def(**kw)将多个key-value的参数组装成字典 \n",
    "默认参数： def(age=10)给参数设置初始值，但切忌初始值必须是不可变对象\n",
    "可变参数： def(*scores) 将几个参数组成一个y元组\n",
    "命名关键词参数： def(a,b,*,city,addr)前面必须有一个*,city和addr\n",
    "    就是命名关键词参数，调用时必须写出key=value形式。如果存在可变参数，就不需要多写*.\n",
    "\"\"\"\n",
    "# *nums表示把list所有元素作为可变参数传入函数。\n",
    "# **dict表示把dict所有元素作为关键词参数传入。\n",
    "# 默认参数是一个分界线，之前的必须是必选参数\n",
    "# *之前的参数是位置参数，*之后的参数是可变参数\n",
    "def f(a,b=0,*args,**kw):\n",
    "    print(\"a=\",a,\"b=\",b,\"args=\",args,\"kw=\",kw)\n",
    "f(1,2,3) # agrs = (3,)\n",
    "f(1,2,k1=3,k2=5) #kw={'k1':3,'k2':5}"
   ]
  },
  {
   "cell_type": "markdown",
   "metadata": {},
   "source": [
    "### 20.Slice对象"
   ]
  },
  {
   "cell_type": "code",
   "execution_count": 34,
   "metadata": {},
   "outputs": [
    {
     "name": "stdout",
     "output_type": "stream",
     "text": [
      "[0, 1, 2, 3, 4, 5, 6, 7, 8, 9] [9, 8, 7, 6, 5, 4, 3, 2, 1, 0] [9, 8, 7, 6, 5, 4, 3, 2, 1]\n"
     ]
    }
   ],
   "source": [
    "\"\"\"\n",
    "python切片操作a[start,end,step]\n",
    "可以把切片封装为一个slice对象\n",
    "\"\"\"\n",
    "a = list(range(10))\n",
    "a_ = a[::-1]\n",
    "reverse_slice = slice(-1,0,-1)\n",
    "a_slice = a[reverse_slice]\n",
    "print(a,a_,a_slice)"
   ]
  },
  {
   "cell_type": "markdown",
   "metadata": {},
   "source": [
    "### 21.lambda函数"
   ]
  },
  {
   "cell_type": "code",
   "execution_count": 38,
   "metadata": {},
   "outputs": [
    {
     "name": "stdout",
     "output_type": "stream",
     "text": [
      "[1, 2, 3]\n"
     ]
    }
   ],
   "source": [
    "\"\"\"\n",
    "lambda x: expr(x)\n",
    "x可以是一个对象， 也可以是个*tuple\n",
    "\"\"\"\n",
    "def max_len(*lists):\n",
    "    \"\"\"\n",
    "    求若干个list的最长的列表\n",
    "    什么不直接传入一个二维列表？\n",
    "    因为可能只传入一个列表，或者多个列表，参数数目不确定。\n",
    "    \"\"\" \n",
    "    return max(*lists,key=lambda x:len(x))\n",
    "    # 等效于\n",
    "    # return max(lists,key=lambda x:len(x))\n",
    "\n",
    "print(max_len([1,2,3],[2,3],[2]))"
   ]
  },
  {
   "cell_type": "markdown",
   "metadata": {},
   "source": [
    "### 22.创建数据字典"
   ]
  },
  {
   "cell_type": "code",
   "execution_count": 47,
   "metadata": {},
   "outputs": [
    {
     "name": "stdout",
     "output_type": "stream",
     "text": [
      "{} {}\n",
      "{'a': 1, 'b': 2} {'a': 1, 'b': 2}\n",
      "{'a': 1, 'b': 2}\n",
      "[('a', 1), ('b', 2)]\n",
      "{'a': 1, 'b': 2}\n",
      "{'a': 1, 'b': 2}\n"
     ]
    }
   ],
   "source": [
    "print(dict(),{}) #创建空字典\n",
    "print(dict(a=1,b=2),{'a':1,'b':2}) #初始化字典\n",
    "\n",
    "l1,l2 = ['a','b'],[1,2]\n",
    "\n",
    "print(dict(zip(l1,l2))) #zip打包字典\n",
    "c = list(zip(l1,l2)) #zip打包列表\n",
    "print(c)       \n",
    "\n",
    "print(dict(c)) #嵌入元组的列表构建字典\n",
    "\n",
    "s = \"{'a':1,'b':2}\"\n",
    "print(eval(s))   #字符串编译构建"
   ]
  },
  {
   "cell_type": "markdown",
   "metadata": {},
   "source": [
    "### 23. 冻结集合"
   ]
  },
  {
   "cell_type": "code",
   "execution_count": 55,
   "metadata": {},
   "outputs": [
    {
     "name": "stdout",
     "output_type": "stream",
     "text": [
      "frozenset({1, 2, 3, 4, 5})\n",
      "frozenset({1, 2, 3, 4})\n",
      "{1, 2, 3, 4}\n",
      "1\n",
      "{2, 3, 4}\n",
      "{2, 4}\n"
     ]
    }
   ],
   "source": [
    "# 创建一个不可修改的集合,没有add和pop方法\n",
    "print(frozenset([1,2,1,3,4,3,5]))\n",
    "print(frozenset({1,2,3,4,4}))\n",
    "\n",
    "a = {1,2,3}\n",
    "a.add(4)\n",
    "print(a)\n",
    "print(a.pop())  #删除第一个元素\n",
    "print(a)\n",
    "a.remove(3)  #删除元素3\n",
    "print(a)"
   ]
  },
  {
   "cell_type": "markdown",
   "metadata": {},
   "source": [
    "### 24.类与对象"
   ]
  },
  {
   "cell_type": "code",
   "execution_count": 75,
   "metadata": {},
   "outputs": [],
   "source": [
    "class Student():\n",
    "    def __init__(self,id,name):\n",
    "        self.id = id\n",
    "        self.name = name\n",
    "    def __repr__(self):\n",
    "        # 使用repr()内置函数获取对象调试字符串\n",
    "        return str(dict(id=self.id,name=self.name))\n",
    "    def __str__(self):\n",
    "        return \"i am {},mu id is {}\".format(self.name,self.id)\n",
    "    \n",
    "    def __call__(self):\n",
    "        print(f\"call me what!i am {self.name}\")\n",
    "\n",
    "    @classmethod\n",
    "    def f_cls(cls): #类方法需要cls参数,就是类本身，相当于Student\n",
    "        print(cls)\n",
    "        # 静态方法归所有类所有，可以被类方法调用\n",
    "        cls.f_static()\n",
    "    @staticmethod\n",
    "    def f_static():  #静态方法不需要self和cls参数\n",
    "        print(\"静态方法\")\n",
    "\n"
   ]
  },
  {
   "cell_type": "markdown",
   "metadata": {},
   "source": [
    "#### 24.1可调用对象"
   ]
  },
  {
   "cell_type": "code",
   "execution_count": 76,
   "metadata": {},
   "outputs": [
    {
     "name": "stdout",
     "output_type": "stream",
     "text": [
      "True False\n",
      "{'id': '101', 'name': 'geng'}\n",
      "i am geng,mu id is 101\n",
      "call me what!i am geng\n"
     ]
    }
   ],
   "source": [
    "#判断对象是否可调用\n",
    "print(callable(int),callable(3))\n",
    "\n",
    "\"\"\"\n",
    "f\"i am {geng}\"  格式化字符串，{}里面是表达式\n",
    "r\"\\nsa\\tda\"  去除转移字符，将正确打印\\n \\t字符\n",
    "u\"弄上大号的\"  使用unicode编码，避免重新打开乱码\n",
    "\"\"\"\n",
    "\n",
    "s = Student('101','geng')\n",
    "print(repr(s))\n",
    "print(str(s))\n",
    "s()\n"
   ]
  },
  {
   "cell_type": "markdown",
   "metadata": {},
   "source": [
    "#### 24.2类方法"
   ]
  },
  {
   "cell_type": "code",
   "execution_count": 78,
   "metadata": {},
   "outputs": [
    {
     "name": "stdout",
     "output_type": "stream",
     "text": [
      "<class '__main__.Student'>\n",
      "静态方法\n",
      "静态方法\n",
      "['__call__', '__class__', '__delattr__', '__dict__', '__dir__', '__doc__', '__eq__', '__format__', '__ge__', '__getattribute__', '__gt__', '__hash__', '__init__', '__init_subclass__', '__le__', '__lt__', '__module__', '__ne__', '__new__', '__reduce__', '__reduce_ex__', '__repr__', '__setattr__', '__sizeof__', '__str__', '__subclasshook__', '__weakref__', 'f_cls', 'f_static', 'id', 'name']\n"
     ]
    }
   ],
   "source": [
    "\"\"\"\n",
    "实例方法需要传入self参数，类方法需要传入cls参数，而静态方法不需要传self或者cls参数\n",
    "cls和self的效果类似，这其实就是模拟c++的静态方法。\n",
    "\"\"\"\n",
    "s = Student('101','geng')\n",
    "# s.f_cls()\n",
    "# s.f_static()\n",
    "\n",
    "Student.f_cls()\n",
    "Student.f_static()\n",
    "\n",
    "#查看对象所有属性\n",
    "print(dir(s))"
   ]
  },
  {
   "cell_type": "markdown",
   "metadata": {},
   "source": [
    "#### 24.3 动态属性操作"
   ]
  },
  {
   "cell_type": "code",
   "execution_count": 84,
   "metadata": {},
   "outputs": [
    {
     "name": "stdout",
     "output_type": "stream",
     "text": [
      "{'id': '101', 'name': 'geng'}\n",
      "False\n",
      "geng\n",
      "139760111192288\n",
      "True\n"
     ]
    }
   ],
   "source": [
    "# 动态删除属性\n",
    "geng = Student(id=\"101\",name=\"geng\")\n",
    "print(repr(geng))\n",
    "delattr(geng,'id')  #删除id属性\n",
    "print(hasattr(geng,'id'))  #查看是否含有id属性\n",
    "print(getattr(geng,'name')) #获取属性值\n",
    "print(id(geng))  #返回对象内存地址\n",
    "print(isinstance(geng,Student)) #判断geng是否为Student类"
   ]
  },
  {
   "cell_type": "code",
   "execution_count": null,
   "metadata": {},
   "outputs": [],
   "source": [
    "## 学习到42"
   ]
  }
 ],
 "metadata": {
  "kernelspec": {
   "display_name": "Python 3.9.7 ('base')",
   "language": "python",
   "name": "python3"
  },
  "language_info": {
   "codemirror_mode": {
    "name": "ipython",
    "version": 3
   },
   "file_extension": ".py",
   "mimetype": "text/x-python",
   "name": "python",
   "nbconvert_exporter": "python",
   "pygments_lexer": "ipython3",
   "version": "3.8.3"
  },
  "orig_nbformat": 4,
  "vscode": {
   "interpreter": {
    "hash": "00173f22465d5f1d845c158d168fa17064fc92517668420cf4dde59f4372f7a7"
   }
  }
 },
 "nbformat": 4,
 "nbformat_minor": 2
}
